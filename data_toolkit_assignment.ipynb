{
  "nbformat": 4,
  "nbformat_minor": 0,
  "metadata": {
    "colab": {
      "provenance": []
    },
    "kernelspec": {
      "name": "python3",
      "display_name": "Python 3"
    },
    "language_info": {
      "name": "python"
    }
  },
  "cells": [
    {
      "cell_type": "markdown",
      "source": [
        "# data toolkit assignment\n"
      ],
      "metadata": {
        "id": "YIGZjwsu2r3-"
      }
    },
    {
      "cell_type": "markdown",
      "source": [
        "1. What is NumPy, and why is it widely used in Python?\n",
        "--> NumPy (Numerical Python) is a powerful library for numerical computing in Python. It provides multi-dimensional arrays and efficient mathematical functions for performing complex computations on large datasets.\n",
        "\n",
        "numpy is widely used in python because -\n",
        "\n",
        "a. Efficient Array Handling (ndarray):\n",
        "NumPy’s array object (ndarray) is much faster and more memory-efficient than Python lists.\n",
        "\n",
        "b. Faster Computation:\n",
        "NumPy is faster than loops because it performs operations on entire arrays.\n",
        "\n",
        "c. Built-in Mathematical Functions:\n",
        "NumPy provides efficient mathematical functions for computations.\n",
        "\n",
        "d. Multi-Dimensional Arrays:\n",
        "Unlike Python lists, NumPy supports multi-dimensional arrays (matrices, tensors).\n",
        "\n",
        "\n",
        "2. How does broadcasting work in NumPy?\n",
        "--> Broadcasting is a feature in NumPy that automatically expands smaller arrays to match the shape of larger arrays during operations.\n",
        "\n",
        "When performing operations on arrays of different shapes, NumPy automatically expands the smaller array without copying data.\n",
        "\n",
        "Broadcasting avoids explicit looping, making array operations faster and more efficient.\n",
        "\n",
        "3. What is a Pandas DataFrame?\n",
        "--> A Pandas DataFrame is a 2D tabular data structure in Python that is similar to an Excel spreadsheet or SQL table. It consists of rows and columns, where:\n",
        "\n",
        "Each column represents a feature (variable).\n",
        "Each row represents a data record (observation).\n",
        "It can hold different data types (int, float, string, etc.).\n",
        "\n",
        "4. Explain the use of the groupby() method in Pandas.\n",
        "--> The groupby() method in Pandas is used for grouping and aggregating data based on one or more columns. It follows the split-apply-combine approach:\n",
        "\n",
        "a. Split → Divides the DataFrame into groups based on a column.\n",
        "\n",
        "b. Apply → Performs an operation (e.g., sum, mean, count) on each group.\n",
        "\n",
        "c. Combine → Merges the results into a new DataFrame.\n",
        "\n",
        "5. Why is Seaborn preferred for statistical visualizations?\n",
        "--> Seaborn is a powerful Python library for creating statistical visualizations with minimal code. It is built on top of Matplotlib and integrates well with Pandas, making it ideal for exploratory data analysis (EDA).\n",
        "\n",
        "seaborn is useful for:\n",
        "\n",
        "a. Built-in Statistical Visualizations\n",
        "\n",
        "b. Works Seamlessly with Pandas\n",
        "\n",
        "c. Enhances Visual Appeal\n",
        "\n",
        "d. Powerful Categorical Data Handling\n",
        "\n",
        "e. Multi-Variable Analysis\n",
        "\n",
        "6. What are the differences between NumPy arrays and Python lists?\n",
        "--> Both NumPy arrays and Python lists are used to store collections of elements, but they have key differences in terms of performance, memory efficiency, and functionality.\n",
        "\n",
        "a. Numpy arrays:\n",
        "\n",
        "Faster (optimized for numerical operations)\n",
        "\n",
        "More efficient (stores homogeneous data in contiguous memory)\n",
        "\n",
        "Stores only one data type (int, float, etc.)\n",
        "\n",
        "Supports vectorized operations (e.g., arr * 2)\n",
        "\n",
        "Provides advanced mathematical functions (mean(), sum(), dot())\n",
        "\n",
        "Supports multidimensional arrays (e.g., matrices)\n",
        "\n",
        "More powerful, supports fancy indexing, boolean indexing\n",
        "\n",
        "Requires numpy installation (pip install numpy)\n",
        "\n",
        "b. python list:\n",
        "\n",
        "Slower comparing to numpy arrays(interpreted element-wise)\n",
        "\n",
        "Less efficient (stores heterogeneous data, more overhead)\n",
        "\n",
        "\n",
        "Can store mixed data types (int, str, float, etc.)\n",
        "\n",
        "\n",
        "Requires loops for calculations\n",
        "\n",
        "\n",
        "Basic built-in functions, lacks mathematical capabilities\n",
        "\n",
        "\n",
        "Basic indexing, less efficient for large datasets\n",
        "\n",
        "\n",
        "7. What is a heatmap, and when should it be used?\n",
        "--> A heatmap is a graphical representation of data where individual values are represented as colors. It is commonly used to visualize correlations, densities, and patterns in large datasets.\n",
        "\n",
        "You should use a heatmap when:\n",
        "\n",
        "a. Visualizing Correlations → Helps identify relationships between variables in a dataset.\n",
        "\n",
        "b.  Finding Patterns in Data  → Useful for spotting trends, outliers, or clusters.\n",
        "\n",
        "\n",
        "c.  Analyzing Large Datasets  → Makes it easier to interpret complex numerical data.\n",
        "\n",
        "\n",
        "d.  Highlighting Density Distributions → Shows where data points are more concentrated.\n",
        "\n",
        "\n",
        "e.  Comparing Values Across a Matrix → Helps in decision-making (e.g., comparing sales across regions and time).\n",
        "\n",
        "8. What does the term “vectorized operation” mean in NumPy?\n",
        "--> A vectorized operation in NumPy refers to performing operations on entire arrays without using explicit loops. This allows for faster and more efficient computations by leveraging low-level optimizations in C and Fortran.\n",
        "\n",
        "9. How does Matplotlib differ from Plotly?\n",
        "--> Both Matplotlib and Plotly are popular Python libraries for data visualization, but they differ in functionality, interactivity, and use cases.\n",
        "\n",
        "a. matplotlib :     \n",
        "\n",
        "Interactivity: Static plots (default)\n",
        "\n",
        "Customization: Highly customizable but requires more code\n",
        "\n",
        "Ease of Use : More complex syntax, requires plt.show()\n",
        "\n",
        "Best For Scientific, academic, and static plots\n",
        "\n",
        "Faster for static plots\n",
        "\n",
        "b. Plotly:\n",
        "\n",
        "Interactivity: Interactive plots (zoom, hover, etc.)\n",
        "\n",
        "Customization: Easier to customize with built-in themes\n",
        "\n",
        "Ease of Use : Simpler syntax, auto-rendering in Jupyter\n",
        "\n",
        "best for Dashboards, web apps, and interactive visualizations\n",
        "\n",
        "10. What is the significance of hierarchical indexing in Pandas?\n",
        "--> Hierarchical indexing (also called multi-level indexing) in Pandas allows you to have multiple index levels on rows and/or columns in a DataFrame. This helps in organizing and analyzing complex datasets more efficiently.\n",
        "\n",
        " Organizes large datasets → Useful for multi-dimensional data.\n",
        "\n",
        " Efficient data selection → Allows multi-level indexing for quick lookups.\n",
        "\n",
        " Grouping and Aggregation → Works well with .groupby() and .unstack().\n",
        "\n",
        " Better data representation → Makes tabular data more structured.\n",
        "\n",
        " 11. What is the role of Seaborn’s pairplot() function?\n",
        " --> Seaborn’s pairplot() function is used to create scatter plots and histograms for pairwise relationships between numerical variables in a dataset. It is commonly used for exploratory data analysis (EDA) to visualize correlations, distributions, and patterns in the data.\n",
        "\n",
        "12. What is the purpose of the describe() function in Pandas?\n",
        "--> The describe() function in Pandas provides summary statistics for numerical or categorical data in a DataFrame or Series. It is widely used for Exploratory Data Analysis (EDA) to quickly understand the distribution and central tendencies of the dataset.\n",
        "\n",
        "use of describe() function:\n",
        "\n",
        "Quickly summarize numerical data (count, mean, std, etc.).\n",
        "\n",
        " Detect missing values (via count).\n",
        "\n",
        " Understand data distribution (via min, max, percentiles).\n",
        "\n",
        " Works with categorical data (if include='object').\n",
        "\n",
        " 13. Why is handling missing data important in Pandas?\n",
        " -->Handling missing data is crucial in data analysis and machine learning because missing values can lead to:\n",
        "\n",
        "Incorrect conclusions → Skewed results in statistical analysis.\n",
        "\n",
        " Errors in computations → Many functions fail with NaN values.\n",
        "\n",
        " Biased machine learning models → Missing data affects model performance.\n",
        "\n",
        " Incomplete insights → Data-driven decisions may be misleading.\n",
        "\n",
        " 14. What are the benefits of using Plotly for data visualization?\n",
        " --> Plotly is a powerful Python library for interactive data visualization, making it a great alternative to static libraries like Matplotlib. It is widely used in data analysis, business intelligence, and machine learning applications.\n",
        "\n",
        "benefits of using plotly:\n",
        "\n",
        "Interactive Plots → Zoom, pan, hover tooltips, and dynamic updates.\n",
        "\n",
        " Easy to Use → Simple syntax like Matplotlib but with interactive capabilities.\n",
        "\n",
        " Beautiful & Customizable → High-quality charts with themes and styling.\n",
        "\n",
        " Supports Multiple Chart Types → Line, bar, scatter, heatmaps, 3D plots, etc.\n",
        "\n",
        " Web-Based & Shareable → Plots can be saved as HTML files or hosted on Plotly Cloud.\n",
        "\n",
        " Works with Pandas & NumPy → Easy integration with data analysis libraries.\n",
        "\n",
        " Dash Compatibility → Can be used to build interactive dashboards.\n",
        "\n",
        "15. How does NumPy handle multidimensional arrays?\n",
        "-->NumPy efficiently handles multidimensional arrays (ndarrays) using an optimized, memory-efficient structure. It provides fast operations for mathematical and logical computations on high-dimensional data.\n",
        "\n",
        "A NumPy array (ndarray) can have multiple dimensions, unlike Python lists. The number of dimensions is called rank or axis.\n",
        "\n",
        "We can reshape arrays to change their dimensions without modifying the data.\n",
        "\n",
        "We can use indexing and slicing like Python lists.\n",
        "\n",
        "NumPy allows element-wise operations on arrays of different shapes.\n",
        "\n",
        "16. What is the role of Bokeh in data visualization?\n",
        "--> Bokeh is a powerful Python library for creating interactive, web-friendly visualizations. It is widely used in data science, business intelligence, and dashboards.\n",
        "\n",
        "role of bokeh in data visualization:\n",
        "\n",
        "Interactive Visualizations → Hover, zoom, pan, tooltips, and selection.\n",
        "\n",
        " Web-Ready Plots → Generates HTML & JavaScript-based charts.\n",
        "\n",
        " Handles Large Datasets → Optimized for streaming and real-time data.\n",
        " High-Level & Low-Level API → Easy for beginners but flexible for advanced users.\n",
        "\n",
        " Integrates with Flask & Django → Great for web applications & dashboards.\n",
        "\n",
        " Supports Multiple Chart Types → Line, bar, scatter, heatmaps, and more.\n",
        "\n",
        "17. Explain the difference between apply() and map() in Pandas.\n",
        "--> Both apply() and map() are used for applying functions to Pandas objects, but they have different use cases.\n",
        "\n",
        "a. map() function:\n",
        "\n",
        "Used for Element-Wise Operations on Series\n",
        "\n",
        "Works only on Pandas Series (not DataFrames).\n",
        "\n",
        "Applies a function element-wise to each value in a Series.\n",
        "\n",
        "Can take a function, dictionary, or Series for transformation.\n",
        "\n",
        "b. apply() function:\n",
        "\n",
        "Used for Row or Column-Wise Operations on DataFrames\n",
        "\n",
        "Works on both Series and DataFrames.\n",
        "\n",
        "Allows applying custom functions to rows or columns.\n",
        "\n",
        "More flexible than map(), since it works with multiple columns.\n",
        "\n",
        "18. What are some advanced features of NumPy?\n",
        "--> NumPy provides powerful and efficient tools for numerical computing. Here are some of its advanced features:\n",
        "\n",
        "a. Broadcasting for Efficient Computation:\n",
        "\n",
        "Broadcasting allows NumPy to perform element-wise operations on arrays of different shapes without explicit looping.\n",
        "\n",
        "b. Vectorized Operations (Avoiding Loops):\n",
        "\n",
        "NumPy performs vectorized computations, eliminating the need for slow Python loops.\n",
        "\n",
        "c. Advanced Indexing and Slicing:\n",
        "\n",
        "NumPy supports fancy indexing, boolean indexing, and slicing.\n",
        "\n",
        "\n",
        "d. NumPy Structured Arrays (Custom Data Types):\n",
        "\n",
        "NumPy allows storing different data types in a single array.\n",
        "\n",
        "e. Memory Mapping for Large Datasets:\n",
        "\n",
        "NumPy supports memory mapping (mmap) to efficiently handle large datasets without loading them into RAM.\n",
        "\n",
        "f. Linear Algebra Operations:\n",
        "\n",
        "NumPy provides optimized linear algebra functions (like dot(), inv(), eig()).\n",
        "\n",
        "19. How does Pandas simplify time series analysis?\n",
        "--> Pandas provides powerful and flexible tools for working with time series data, making it easy to manipulate, analyze, and visualize time-based datasets.\n",
        "\n",
        "a. Handling Date and Time Data:\n",
        "\n",
        "Pandas makes it easy to work with dates using the datetime type.\n",
        "\n",
        "b. Setting Date as Index:\n",
        "\n",
        "Using dates as the index helps in time-based filtering and operations.\n",
        "\n",
        "c. Time-based Indexing and Slicing:\n",
        "\n",
        "With a DatetimeIndex, you can filter data easily.\n",
        "\n",
        "d.Resampling (Aggregating Data by Time)\n",
        "\n",
        "Pandas provides resample() to change frequency (e.g., daily → monthly).\n",
        "\n",
        "e. Shifting and Lagging Data\n",
        "\n",
        "Pandas allows shifting data forward or backward to analyze trends.\n",
        "\n",
        "20. What is the role of a pivot table in Pandas?\n",
        "--> A pivot table in Pandas is used to summarize, reorganize, and analyze data in a structured format. It is similar to an Excel pivot table and is extremely useful for transforming long-form datasets into a more readable and aggregated form.\n",
        "\n",
        "a. Aggregates data (e.g., sum, mean, count) based on categories.\n",
        "\n",
        "b. Rearranges data to display meaningful insights.\n",
        "\n",
        "c. Works with large datasets efficiently.\n",
        "\n",
        "d. Simplifies data analysis by reducing redundant rows.\n",
        "\n",
        "21. Why is NumPy’s array slicing faster than Python’s list slicing?\n",
        "--> NumPy arrays are significantly faster and more memory-efficient than Python lists when slicing due to three key reasons:\n",
        "\n",
        "a. NumPy Uses Views Instead of Copies:\n",
        "\n",
        "NumPy slicing returns a view of the original array, meaning it does not create\n",
        "a new object in memory.\n",
        "\n",
        "Python lists create a new list when sliced, which requires additional memory allocation.\n",
        "\n",
        "b. NumPy Uses Contiguous Memory (Better Cache Performance):\n",
        "\n",
        "NumPy arrays are stored in a single contiguous memory block, unlike Python lists, which store references to objects in different memory locations.\n",
        "\n",
        "This makes NumPy arrays cache-friendly, leading to faster access and slicing.\n",
        "\n",
        "c. NumPy is Implemented in C (Highly Optimized):\n",
        "\n",
        "NumPy's core operations (like slicing) are implemented in C, which is much faster than Python’s high-level operations.\n",
        "\n",
        "Python lists are dynamically typed and have extra overhead for checking types, whereas NumPy arrays are fixed-type and optimized for fast execution.\n",
        "\n",
        "22. What are some common use cases for Seaborn?\n",
        "--> Seaborn is a Python data visualization library built on top of Matplotlib, designed for statistical visualizations with beautiful and informative graphs. It simplifies complex plots and is widely used in data analysis, machine learning, and exploratory data analysis (EDA).\n",
        "\n",
        "a. Exploratory Data Analysis (EDA):\n",
        "\n",
        "Seaborn is commonly used in EDA to uncover patterns, relationships, and trends in data before applying machine learning models.\n",
        "\n",
        "b. Correlation Heatmaps (Finding Relationships Between Variables):\n",
        "\n",
        "Heatmaps in Seaborn help visualize correlations in datasets, making it easy to detect dependencies.\n",
        "\n",
        "c. Comparing Distributions (KDE, Boxplot, Violin Plot):\n",
        "\n",
        "Seaborn offers multiple ways to compare distributions of numerical data across different categories.\n",
        "\n",
        "d. Visualizing Categorical Data (Bar, Count, and Swarm Plots):\n",
        "\n",
        "Seaborn is great for analyzing categorical data and comparing category-wise numerical values.\n",
        "\n",
        "e. Pairplot (Multivariate Relationships):\n",
        "\n",
        "Seaborn’s pairplot() is excellent for visualizing pairwise relationships in datasets.\n",
        "\n",
        "f. Regression & Trend Analysis:\n",
        "\n",
        "Seaborn makes it easy to visualize regression trends.\n"
      ],
      "metadata": {
        "id": "5uWMXnf93GAq"
      }
    },
    {
      "cell_type": "code",
      "source": [
        "# How do you create a 2D NumPy array and calculate the sum of each row?\n",
        "\n",
        "#A 2D array (or matrix) is simply an array with multiple rows and columns.\n",
        "\n",
        "import numpy as np\n",
        "\n",
        "# Creating a 2D NumPy array (3 rows, 4 columns)\n",
        "arr = np.array([\n",
        "    [1, 2, 3, 4],\n",
        "    [5, 6, 7, 8],\n",
        "    [9, 10, 11, 12]\n",
        "])\n",
        "\n",
        "print(arr)\n"
      ],
      "metadata": {
        "colab": {
          "base_uri": "https://localhost:8080/"
        },
        "id": "q1HeVgw3CGzU",
        "outputId": "8b686082-7490-4ebd-ca31-988404932136"
      },
      "execution_count": 1,
      "outputs": [
        {
          "output_type": "stream",
          "name": "stdout",
          "text": [
            "[[ 1  2  3  4]\n",
            " [ 5  6  7  8]\n",
            " [ 9 10 11 12]]\n"
          ]
        }
      ]
    },
    {
      "cell_type": "code",
      "source": [
        "#Write a Pandas script to find the mean of a specific column in a DataFrame\n",
        "\n",
        "import pandas as pd\n",
        "\n",
        "data = {\n",
        "    'Name': ['Alice', 'Bob', 'Charlie', 'David', 'Eve'],\n",
        "    'Age': [25, 30, 35, 40, 28],\n",
        "    'Salary': [50000, 60000, 70000, 80000, 55000]\n",
        "}\n",
        "\n",
        "df = pd.DataFrame(data)\n",
        "\n",
        "print(df)\n"
      ],
      "metadata": {
        "colab": {
          "base_uri": "https://localhost:8080/"
        },
        "id": "JF3TVOkaCiod",
        "outputId": "ee7d861b-1baa-4cf8-861d-c4e13c9968e3"
      },
      "execution_count": 2,
      "outputs": [
        {
          "output_type": "stream",
          "name": "stdout",
          "text": [
            "      Name  Age  Salary\n",
            "0    Alice   25   50000\n",
            "1      Bob   30   60000\n",
            "2  Charlie   35   70000\n",
            "3    David   40   80000\n",
            "4      Eve   28   55000\n"
          ]
        }
      ]
    },
    {
      "cell_type": "code",
      "source": [
        "# Create a scatter plot using Matplotlib\n",
        "\n",
        "import matplotlib.pyplot as plt\n",
        "import numpy as np\n",
        "\n",
        "np.random.seed(42)  # For reproducibility\n",
        "x = np.random.randint(1, 100, 50)  # Random x values\n",
        "y = np.random.randint(1, 100, 50)  # Random y values\n",
        "\n",
        "plt.figure(figsize=(8,6))\n",
        "plt.scatter(x, y, color='blue', marker='o', alpha=0.7, edgecolors='black')\n",
        "\n",
        "plt.xlabel(\"X-axis Label\")\n",
        "plt.ylabel(\"Y-axis Label\")\n",
        "plt.title(\"Scatter Plot Example\")\n",
        "\n",
        "\n",
        "plt.show()\n"
      ],
      "metadata": {
        "colab": {
          "base_uri": "https://localhost:8080/",
          "height": 564
        },
        "id": "DGfDLxsFC0YL",
        "outputId": "dd92a1fa-85e2-40d6-c99d-a60ec75d249c"
      },
      "execution_count": 4,
      "outputs": [
        {
          "output_type": "display_data",
          "data": {
            "text/plain": [
              "<Figure size 800x600 with 1 Axes>"
            ],
            "image/png": "[encoded data removed]"
          },
          "metadata": {}
        }
      ]
    },
    {
      "cell_type": "code",
      "source": [
        "# How do you calculate the correlation matrix using Seaborn and visualize it with a heatmap\n",
        "\n",
        "import seaborn as sns\n",
        "import pandas as pd\n",
        "import numpy as np\n",
        "import matplotlib.pyplot as plt\n",
        "\n",
        "# Sample dataset\n",
        "data = {\n",
        "    'Age': [25, 30, 35, 40, 28, 32, 27, 45],\n",
        "    'Salary': [50000, 60000, 70000, 80000, 55000, 62000, 58000, 90000],\n",
        "    'Experience': [2, 5, 7, 10, 3, 6, 4, 12]\n",
        "}\n",
        "\n",
        "df = pd.DataFrame(data)\n",
        "\n",
        "corr_matrix = df.corr()  # Computes the Pearson correlation coefficients\n",
        "print(corr_matrix)\n",
        "\n",
        "\n",
        "\n",
        "\n"
      ],
      "metadata": {
        "colab": {
          "base_uri": "https://localhost:8080/"
        },
        "id": "dJJB2hLhDRXF",
        "outputId": "d43341e8-5ac0-41f4-a097-8d4628965d84"
      },
      "execution_count": 6,
      "outputs": [
        {
          "output_type": "stream",
          "name": "stdout",
          "text": [
            "                 Age    Salary  Experience\n",
            "Age         1.000000  0.992145    0.990950\n",
            "Salary      0.992145  1.000000    0.992912\n",
            "Experience  0.990950  0.992912    1.000000\n"
          ]
        }
      ]
    },
    {
      "cell_type": "code",
      "source": [
        "# Generate a bar plot using Plotly\n",
        "\n",
        "import plotly.express as px\n",
        "import pandas as pd\n",
        "\n",
        "# Sample dataset\n",
        "data = {\n",
        "    'Category': ['A', 'B', 'C', 'D', 'E'],\n",
        "    'Sales': [100, 150, 200, 130, 180]\n",
        "}\n",
        "\n",
        "df = pd.DataFrame(data)\n",
        "\n",
        "fig = px.bar(df, x='Category', y='Sales', title=\"Sales by Category\",\n",
        "             labels={'Sales': 'Total Sales', 'Category': 'Product Category'},\n",
        "             color='Category')  # Assign colors to bars\n",
        "\n",
        "fig.show()\n"
      ],
      "metadata": {
        "colab": {
          "base_uri": "https://localhost:8080/",
          "height": 542
        },
        "id": "AE9-WskPDupo",
        "outputId": "16f50262-0780-4d6f-866a-0ea06a67b681"
      },
      "execution_count": 8,
      "outputs": [
        {
          "output_type": "display_data",
          "data": {
            "text/html": [
              "<html>\n",
              "<head><meta charset=\"utf-8\" /></head>\n",
              "<body>\n",
              "    <div>            <script src=\"https://cdnjs.cloudflare.com/ajax/libs/mathjax/2.7.5/MathJax.js?config=TeX-AMS-MML_SVG\"></script><script type=\"text/javascript\">if (window.MathJax && window.MathJax.Hub && window.MathJax.Hub.Config) {window.MathJax.Hub.Config({SVG: {font: \"STIX-Web\"}});}</script>                <script type=\"text/javascript\">window.PlotlyConfig = {MathJaxConfig: 'local'};</script>\n",
              "        <script charset=\"utf-8\" src=\"https://cdn.plot.ly/plotly-2.35.2.min.js\"></script>                <div id=\"46bc756b-e062-42bb-9da4-26dc3fe3dd41\" class=\"plotly-graph-div\" style=\"height:525px; width:100%;\"></div>            <script type=\"text/javascript\">                                    window.PLOTLYENV=window.PLOTLYENV || {};                                    if (document.getElementById(\"46bc756b-e062-42bb-9da4-26dc3fe3dd41\")) {                    Plotly.newPlot(                        \"46bc756b-e062-42bb-9da4-26dc3fe3dd41\",                        [{\"alignmentgroup\":\"True\",\"hovertemplate\":\"Product Category=%{x}\\u003cbr\\u003eTotal Sales=%{y}\\u003cextra\\u003e\\u003c\\u002fextra\\u003e\",\"legendgroup\":\"A\",\"marker\":{\"color\":\"#636efa\",\"pattern\":{\"shape\":\"\"}},\"name\":\"A\",\"offsetgroup\":\"A\",\"orientation\":\"v\",\"showlegend\":true,\"textposition\":\"auto\",\"x\":[\"A\"],\"xaxis\":\"x\",\"y\":[100],\"yaxis\":\"y\",\"type\":\"bar\"},{\"alignmentgroup\":\"True\",\"hovertemplate\":\"Product Category=%{x}\\u003cbr\\u003eTotal Sales=%{y}\\u003cextra\\u003e\\u003c\\u002fextra\\u003e\",\"legendgroup\":\"B\",\"marker\":{\"color\":\"#EF553B\",\"pattern\":{\"shape\":\"\"}},\"name\":\"B\",\"offsetgroup\":\"B\",\"orientation\":\"v\",\"showlegend\":true,\"textposition\":\"auto\",\"x\":[\"B\"],\"xaxis\":\"x\",\"y\":[150],\"yaxis\":\"y\",\"type\":\"bar\"},{\"alignmentgroup\":\"True\",\"hovertemplate\":\"Product Category=%{x}\\u003cbr\\u003eTotal Sales=%{y}\\u003cextra\\u003e\\u003c\\u002fextra\\u003e\",\"legendgroup\":\"C\",\"marker\":{\"color\":\"#00cc96\",\"pattern\":{\"shape\":\"\"}},\"name\":\"C\",\"offsetgroup\":\"C\",\"orientation\":\"v\",\"showlegend\":true,\"textposition\":\"auto\",\"x\":[\"C\"],\"xaxis\":\"x\",\"y\":[200],\"yaxis\":\"y\",\"type\":\"bar\"},{\"alignmentgroup\":\"True\",\"hovertemplate\":\"Product Category=%{x}\\u003cbr\\u003eTotal Sales=%{y}\\u003cextra\\u003e\\u003c\\u002fextra\\u003e\",\"legendgroup\":\"D\",\"marker\":{\"color\":\"#ab63fa\",\"pattern\":{\"shape\":\"\"}},\"name\":\"D\",\"offsetgroup\":\"D\",\"orientation\":\"v\",\"showlegend\":true,\"textposition\":\"auto\",\"x\":[\"D\"],\"xaxis\":\"x\",\"y\":[130],\"yaxis\":\"y\",\"type\":\"bar\"},{\"alignmentgroup\":\"True\",\"hovertemplate\":\"Product Category=%{x}\\u003cbr\\u003eTotal Sales=%{y}\\u003cextra\\u003e\\u003c\\u002fextra\\u003e\",\"legendgroup\":\"E\",\"marker\":{\"color\":\"#FFA15A\",\"pattern\":{\"shape\":\"\"}},\"name\":\"E\",\"offsetgroup\":\"E\",\"orientation\":\"v\",\"showlegend\":true,\"textposition\":\"auto\",\"x\":[\"E\"],\"xaxis\":\"x\",\"y\":[180],\"yaxis\":\"y\",\"type\":\"bar\"}],                        {\"template\":{\"data\":{\"histogram2dcontour\":[{\"type\":\"histogram2dcontour\",\"colorbar\":{\"outlinewidth\":0,\"ticks\":\"\"},\"colorscale\":[[0.0,\"#0d0887\"],[0.1111111111111111,\"#46039f\"],[0.2222222222222222,\"#7201a8\"],[0.3333333333333333,\"#9c179e\"],[0.4444444444444444,\"#bd3786\"],[0.5555555555555556,\"#d8576b\"],[0.6666666666666666,\"#ed7953\"],[0.7777777777777778,\"#fb9f3a\"],[0.8888888888888888,\"#fdca26\"],[1.0,\"#f0f921\"]]}],\"choropleth\":[{\"type\":\"choropleth\",\"colorbar\":{\"outlinewidth\":0,\"ticks\":\"\"}}],\"histogram2d\":[{\"type\":\"histogram2d\",\"colorbar\":{\"outlinewidth\":0,\"ticks\":\"\"},\"colorscale\":[[0.0,\"#0d0887\"],[0.1111111111111111,\"#46039f\"],[0.2222222222222222,\"#7201a8\"],[0.3333333333333333,\"#9c179e\"],[0.4444444444444444,\"#bd3786\"],[0.5555555555555556,\"#d8576b\"],[0.6666666666666666,\"#ed7953\"],[0.7777777777777778,\"#fb9f3a\"],[0.8888888888888888,\"#fdca26\"],[1.0,\"#f0f921\"]]}],\"heatmap\":[{\"type\":\"heatmap\",\"colorbar\":{\"outlinewidth\":0,\"ticks\":\"\"},\"colorscale\":[[0.0,\"#0d0887\"],[0.1111111111111111,\"#46039f\"],[0.2222222222222222,\"#7201a8\"],[0.3333333333333333,\"#9c179e\"],[0.4444444444444444,\"#bd3786\"],[0.5555555555555556,\"#d8576b\"],[0.6666666666666666,\"#ed7953\"],[0.7777777777777778,\"#fb9f3a\"],[0.8888888888888888,\"#fdca26\"],[1.0,\"#f0f921\"]]}],\"heatmapgl\":[{\"type\":\"heatmapgl\",\"colorbar\":{\"outlinewidth\":0,\"ticks\":\"\"},\"colorscale\":[[0.0,\"#0d0887\"],[0.1111111111111111,\"#46039f\"],[0.2222222222222222,\"#7201a8\"],[0.3333333333333333,\"#9c179e\"],[0.4444444444444444,\"#bd3786\"],[0.5555555555555556,\"#d8576b\"],[0.6666666666666666,\"#ed7953\"],[0.7777777777777778,\"#fb9f3a\"],[0.8888888888888888,\"#fdca26\"],[1.0,\"#f0f921\"]]}],\"contourcarpet\":[{\"type\":\"contourcarpet\",\"colorbar\":{\"outlinewidth\":0,\"ticks\":\"\"}}],\"contour\":[{\"type\":\"contour\",\"colorbar\":{\"outlinewidth\":0,\"ticks\":\"\"},\"colorscale\":[[0.0,\"#0d0887\"],[0.1111111111111111,\"#46039f\"],[0.2222222222222222,\"#7201a8\"],[0.3333333333333333,\"#9c179e\"],[0.4444444444444444,\"#bd3786\"],[0.5555555555555556,\"#d8576b\"],[0.6666666666666666,\"#ed7953\"],[0.7777777777777778,\"#fb9f3a\"],[0.8888888888888888,\"#fdca26\"],[1.0,\"#f0f921\"]]}],\"surface\":[{\"type\":\"surface\",\"colorbar\":{\"outlinewidth\":0,\"ticks\":\"\"},\"colorscale\":[[0.0,\"#0d0887\"],[0.1111111111111111,\"#46039f\"],[0.2222222222222222,\"#7201a8\"],[0.3333333333333333,\"#9c179e\"],[0.4444444444444444,\"#bd3786\"],[0.5555555555555556,\"#d8576b\"],[0.6666666666666666,\"#ed7953\"],[0.7777777777777778,\"#fb9f3a\"],[0.8888888888888888,\"#fdca26\"],[1.0,\"#f0f921\"]]}],\"mesh3d\":[{\"type\":\"mesh3d\",\"colorbar\":{\"outlinewidth\":0,\"ticks\":\"\"}}],\"scatter\":[{\"fillpattern\":{\"fillmode\":\"overlay\",\"size\":10,\"solidity\":0.2},\"type\":\"scatter\"}],\"parcoords\":[{\"type\":\"parcoords\",\"line\":{\"colorbar\":{\"outlinewidth\":0,\"ticks\":\"\"}}}],\"scatterpolargl\":[{\"type\":\"scatterpolargl\",\"marker\":{\"colorbar\":{\"outlinewidth\":0,\"ticks\":\"\"}}}],\"bar\":[{\"error_x\":{\"color\":\"#2a3f5f\"},\"error_y\":{\"color\":\"#2a3f5f\"},\"marker\":{\"line\":{\"color\":\"#E5ECF6\",\"width\":0.5},\"pattern\":{\"fillmode\":\"overlay\",\"size\":10,\"solidity\":0.2}},\"type\":\"bar\"}],\"scattergeo\":[{\"type\":\"scattergeo\",\"marker\":{\"colorbar\":{\"outlinewidth\":0,\"ticks\":\"\"}}}],\"scatterpolar\":[{\"type\":\"scatterpolar\",\"marker\":{\"colorbar\":{\"outlinewidth\":0,\"ticks\":\"\"}}}],\"histogram\":[{\"marker\":{\"pattern\":{\"fillmode\":\"overlay\",\"size\":10,\"solidity\":0.2}},\"type\":\"histogram\"}],\"scattergl\":[{\"type\":\"scattergl\",\"marker\":{\"colorbar\":{\"outlinewidth\":0,\"ticks\":\"\"}}}],\"scatter3d\":[{\"type\":\"scatter3d\",\"line\":{\"colorbar\":{\"outlinewidth\":0,\"ticks\":\"\"}},\"marker\":{\"colorbar\":{\"outlinewidth\":0,\"ticks\":\"\"}}}],\"scattermapbox\":[{\"type\":\"scattermapbox\",\"marker\":{\"colorbar\":{\"outlinewidth\":0,\"ticks\":\"\"}}}],\"scatterternary\":[{\"type\":\"scatterternary\",\"marker\":{\"colorbar\":{\"outlinewidth\":0,\"ticks\":\"\"}}}],\"scattercarpet\":[{\"type\":\"scattercarpet\",\"marker\":{\"colorbar\":{\"outlinewidth\":0,\"ticks\":\"\"}}}],\"carpet\":[{\"aaxis\":{\"endlinecolor\":\"#2a3f5f\",\"gridcolor\":\"white\",\"linecolor\":\"white\",\"minorgridcolor\":\"white\",\"startlinecolor\":\"#2a3f5f\"},\"baxis\":{\"endlinecolor\":\"#2a3f5f\",\"gridcolor\":\"white\",\"linecolor\":\"white\",\"minorgridcolor\":\"white\",\"startlinecolor\":\"#2a3f5f\"},\"type\":\"carpet\"}],\"table\":[{\"cells\":{\"fill\":{\"color\":\"#EBF0F8\"},\"line\":{\"color\":\"white\"}},\"header\":{\"fill\":{\"color\":\"#C8D4E3\"},\"line\":{\"color\":\"white\"}},\"type\":\"table\"}],\"barpolar\":[{\"marker\":{\"line\":{\"color\":\"#E5ECF6\",\"width\":0.5},\"pattern\":{\"fillmode\":\"overlay\",\"size\":10,\"solidity\":0.2}},\"type\":\"barpolar\"}],\"pie\":[{\"automargin\":true,\"type\":\"pie\"}]},\"layout\":{\"autotypenumbers\":\"strict\",\"colorway\":[\"#636efa\",\"#EF553B\",\"#00cc96\",\"#ab63fa\",\"#FFA15A\",\"#19d3f3\",\"#FF6692\",\"#B6E880\",\"#FF97FF\",\"#FECB52\"],\"font\":{\"color\":\"#2a3f5f\"},\"hovermode\":\"closest\",\"hoverlabel\":{\"align\":\"left\"},\"paper_bgcolor\":\"white\",\"plot_bgcolor\":\"#E5ECF6\",\"polar\":{\"bgcolor\":\"#E5ECF6\",\"angularaxis\":{\"gridcolor\":\"white\",\"linecolor\":\"white\",\"ticks\":\"\"},\"radialaxis\":{\"gridcolor\":\"white\",\"linecolor\":\"white\",\"ticks\":\"\"}},\"ternary\":{\"bgcolor\":\"#E5ECF6\",\"aaxis\":{\"gridcolor\":\"white\",\"linecolor\":\"white\",\"ticks\":\"\"},\"baxis\":{\"gridcolor\":\"white\",\"linecolor\":\"white\",\"ticks\":\"\"},\"caxis\":{\"gridcolor\":\"white\",\"linecolor\":\"white\",\"ticks\":\"\"}},\"coloraxis\":{\"colorbar\":{\"outlinewidth\":0,\"ticks\":\"\"}},\"colorscale\":{\"sequential\":[[0.0,\"#0d0887\"],[0.1111111111111111,\"#46039f\"],[0.2222222222222222,\"#7201a8\"],[0.3333333333333333,\"#9c179e\"],[0.4444444444444444,\"#bd3786\"],[0.5555555555555556,\"#d8576b\"],[0.6666666666666666,\"#ed7953\"],[0.7777777777777778,\"#fb9f3a\"],[0.8888888888888888,\"#fdca26\"],[1.0,\"#f0f921\"]],\"sequentialminus\":[[0.0,\"#0d0887\"],[0.1111111111111111,\"#46039f\"],[0.2222222222222222,\"#7201a8\"],[0.3333333333333333,\"#9c179e\"],[0.4444444444444444,\"#bd3786\"],[0.5555555555555556,\"#d8576b\"],[0.6666666666666666,\"#ed7953\"],[0.7777777777777778,\"#fb9f3a\"],[0.8888888888888888,\"#fdca26\"],[1.0,\"#f0f921\"]],\"diverging\":[[0,\"#8e0152\"],[0.1,\"#c51b7d\"],[0.2,\"#de77ae\"],[0.3,\"#f1b6da\"],[0.4,\"#fde0ef\"],[0.5,\"#f7f7f7\"],[0.6,\"#e6f5d0\"],[0.7,\"#b8e186\"],[0.8,\"#7fbc41\"],[0.9,\"#4d9221\"],[1,\"#276419\"]]},\"xaxis\":{\"gridcolor\":\"white\",\"linecolor\":\"white\",\"ticks\":\"\",\"title\":{\"standoff\":15},\"zerolinecolor\":\"white\",\"automargin\":true,\"zerolinewidth\":2},\"yaxis\":{\"gridcolor\":\"white\",\"linecolor\":\"white\",\"ticks\":\"\",\"title\":{\"standoff\":15},\"zerolinecolor\":\"white\",\"automargin\":true,\"zerolinewidth\":2},\"scene\":{\"xaxis\":{\"backgroundcolor\":\"#E5ECF6\",\"gridcolor\":\"white\",\"linecolor\":\"white\",\"showbackground\":true,\"ticks\":\"\",\"zerolinecolor\":\"white\",\"gridwidth\":2},\"yaxis\":{\"backgroundcolor\":\"#E5ECF6\",\"gridcolor\":\"white\",\"linecolor\":\"white\",\"showbackground\":true,\"ticks\":\"\",\"zerolinecolor\":\"white\",\"gridwidth\":2},\"zaxis\":{\"backgroundcolor\":\"#E5ECF6\",\"gridcolor\":\"white\",\"linecolor\":\"white\",\"showbackground\":true,\"ticks\":\"\",\"zerolinecolor\":\"white\",\"gridwidth\":2}},\"shapedefaults\":{\"line\":{\"color\":\"#2a3f5f\"}},\"annotationdefaults\":{\"arrowcolor\":\"#2a3f5f\",\"arrowhead\":0,\"arrowwidth\":1},\"geo\":{\"bgcolor\":\"white\",\"landcolor\":\"#E5ECF6\",\"subunitcolor\":\"white\",\"showland\":true,\"showlakes\":true,\"lakecolor\":\"white\"},\"title\":{\"x\":0.05},\"mapbox\":{\"style\":\"light\"}}},\"xaxis\":{\"anchor\":\"y\",\"domain\":[0.0,1.0],\"title\":{\"text\":\"Product Category\"},\"categoryorder\":\"array\",\"categoryarray\":[\"A\",\"B\",\"C\",\"D\",\"E\"]},\"yaxis\":{\"anchor\":\"x\",\"domain\":[0.0,1.0],\"title\":{\"text\":\"Total Sales\"}},\"legend\":{\"title\":{\"text\":\"Product Category\"},\"tracegroupgap\":0},\"title\":{\"text\":\"Sales by Category\"},\"barmode\":\"relative\"},                        {\"responsive\": true}                    ).then(function(){\n",
              "                            \n",
              "var gd = document.getElementById('46bc756b-e062-42bb-9da4-26dc3fe3dd41');\n",
              "var x = new MutationObserver(function (mutations, observer) {{\n",
              "        var display = window.getComputedStyle(gd).display;\n",
              "        if (!display || display === 'none') {{\n",
              "            console.log([gd, 'removed!']);\n",
              "            Plotly.purge(gd);\n",
              "            observer.disconnect();\n",
              "        }}\n",
              "}});\n",
              "\n",
              "// Listen for the removal of the full notebook cells\n",
              "var notebookContainer = gd.closest('#notebook-container');\n",
              "if (notebookContainer) {{\n",
              "    x.observe(notebookContainer, {childList: true});\n",
              "}}\n",
              "\n",
              "// Listen for the clearing of the current output cell\n",
              "var outputEl = gd.closest('.output');\n",
              "if (outputEl) {{\n",
              "    x.observe(outputEl, {childList: true});\n",
              "}}\n",
              "\n",
              "                        })                };                            </script>        </div>\n",
              "</body>\n",
              "</html>"
            ]
          },
          "metadata": {}
        }
      ]
    },
    {
      "cell_type": "code",
      "source": [
        "# Create a DataFrame and add a new column based on an existing column\n",
        "\n",
        "import pandas as pd\n",
        "\n",
        "# Creating a sample DataFrame\n",
        "data = {\n",
        "    'Name': ['Alice', 'Bob', 'Charlie', 'David', 'Eve'],\n",
        "    'Salary': [50000, 60000, 70000, 80000, 55000]\n",
        "}\n",
        "\n",
        "df = pd.DataFrame(data)\n",
        "\n",
        "print(df)\n"
      ],
      "metadata": {
        "colab": {
          "base_uri": "https://localhost:8080/"
        },
        "id": "_UK3GR82EFDr",
        "outputId": "32c1ab0b-f98a-4681-e46d-9b141df4bb3d"
      },
      "execution_count": 9,
      "outputs": [
        {
          "output_type": "stream",
          "name": "stdout",
          "text": [
            "      Name  Salary\n",
            "0    Alice   50000\n",
            "1      Bob   60000\n",
            "2  Charlie   70000\n",
            "3    David   80000\n",
            "4      Eve   55000\n"
          ]
        }
      ]
    },
    {
      "cell_type": "code",
      "source": [
        "# Write a program to perform element-wise multiplication of two NumPy arrays\n",
        "\n",
        "import numpy as np\n",
        "\n",
        "# Creating two NumPy arrays\n",
        "arr1 = np.array([1, 2, 3, 4, 5])\n",
        "arr2 = np.array([10, 20, 30, 40, 50])\n",
        "\n",
        "result1 = arr1 * arr2\n",
        "print(\"Result:\", result1)\n",
        "\n"
      ],
      "metadata": {
        "colab": {
          "base_uri": "https://localhost:8080/"
        },
        "id": "fa2k2LGqEQBl",
        "outputId": "1d8713d2-b1cf-4051-8ef5-a4539ae7ffa6"
      },
      "execution_count": 11,
      "outputs": [
        {
          "output_type": "stream",
          "name": "stdout",
          "text": [
            "Result: [ 10  40  90 160 250]\n"
          ]
        }
      ]
    },
    {
      "cell_type": "code",
      "source": [
        "# Create a line plot with multiple lines using Matplotlib\n",
        "\n",
        "import matplotlib.pyplot as plt\n",
        "import numpy as np\n",
        "\n",
        "# X-axis values (time or sequence)\n",
        "x = np.arange(1, 11)  # Numbers from 1 to 10\n",
        "\n",
        "# Y-axis values for multiple lines\n",
        "y1 = x * 2          # Line 1: y = 2x\n",
        "y2 = x * 3          # Line 2: y = 3x\n",
        "y3 = x * x          # Line 3: y = x^2\n",
        "\n",
        "plt.figure(figsize=(8,5))\n",
        "\n",
        "plt.plot(x, y1, label=\"y = 2x\", color='blue', marker='o', linestyle='-')\n",
        "plt.plot(x, y2, label=\"y = 3x\", color='red', marker='s', linestyle='--')\n",
        "plt.plot(x, y3, label=\"y = x^2\", color='green', marker='d', linestyle='-.')\n",
        "\n",
        "# Add labels, title, and legend\n",
        "plt.xlabel(\"X Values\")\n",
        "plt.ylabel(\"Y Values\")\n",
        "plt.title(\"Line Plot with Multiple Lines\")\n",
        "plt.legend()  # Show legend\n",
        "\n",
        "plt.grid(True, linestyle=\"--\", alpha=0.6)\n",
        "\n",
        "plt.show()\n"
      ],
      "metadata": {
        "colab": {
          "base_uri": "https://localhost:8080/",
          "height": 487
        },
        "id": "v8QK6xCrEnPd",
        "outputId": "7345d392-b9a6-401c-a254-f09609ae2632"
      },
      "execution_count": 12,
      "outputs": [
        {
          "output_type": "display_data",
          "data": {
            "text/plain": [
              "<Figure size 800x500 with 1 Axes>"
            ],
            "image/png": "[encoded data removed]"
          },
          "metadata": {}
        }
      ]
    },
    {
      "cell_type": "code",
      "source": [
        "# Generate a Pandas DataFrame and filter rows where a column value is greater than a threshold\n",
        "\n",
        "import pandas as pd\n",
        "\n",
        "# Creating a sample DataFrame\n",
        "data = {\n",
        "    'Name': ['Alice', 'Bob', 'Charlie', 'David', 'Eve'],\n",
        "    'Salary': [50000, 60000, 70000, 80000, 55000]\n",
        "}\n",
        "\n",
        "df = pd.DataFrame(data)\n",
        "print(df)\n"
      ],
      "metadata": {
        "colab": {
          "base_uri": "https://localhost:8080/"
        },
        "id": "XFjysXhaE8yA",
        "outputId": "4862fbe2-1d06-4126-9519-72261cdc4e8a"
      },
      "execution_count": 13,
      "outputs": [
        {
          "output_type": "stream",
          "name": "stdout",
          "text": [
            "      Name  Salary\n",
            "0    Alice   50000\n",
            "1      Bob   60000\n",
            "2  Charlie   70000\n",
            "3    David   80000\n",
            "4      Eve   55000\n"
          ]
        }
      ]
    },
    {
      "cell_type": "code",
      "source": [
        "# Create a histogram using Seaborn to visualize a distribution\n",
        "\n",
        "import seaborn as sns\n",
        "import numpy as np\n",
        "import matplotlib.pyplot as plt\n",
        "\n",
        "# Generate random data (e.g., simulated exam scores)\n",
        "np.random.seed(42)  # Ensures reproducibility\n",
        "data = np.random.normal(loc=70, scale=10, size=200)  # Mean=70, StdDev=10, 200 values\n",
        "\n",
        "plt.figure(figsize=(8,5))  # Set figure size\n",
        "\n",
        "sns.histplot(data, bins=20, kde=True, color=\"blue\")\n",
        "\n",
        "plt.xlabel(\"Scores\")\n",
        "plt.ylabel(\"Frequency\")\n",
        "plt.title(\"Distribution of Exam Scores\")\n",
        "\n",
        "plt.show()\n"
      ],
      "metadata": {
        "colab": {
          "base_uri": "https://localhost:8080/",
          "height": 487
        },
        "id": "12Tc1ng7FQLm",
        "outputId": "37f9a0ed-3331-48d2-abf2-b39a4ea526d6"
      },
      "execution_count": 15,
      "outputs": [
        {
          "output_type": "display_data",
          "data": {
            "text/plain": [
              "<Figure size 800x500 with 1 Axes>"
            ],
            "image/png": "[encoded data removed]"
          },
          "metadata": {}
        }
      ]
    },
    {
      "cell_type": "code",
      "source": [
        "# Perform matrix multiplication using NumPy\n",
        "\n",
        "import numpy as np\n",
        "\n",
        "A = np.array([[1, 2],\n",
        "              [3, 4]])\n",
        "\n",
        "B = np.array([[5, 6],\n",
        "              [7, 8]])\n",
        "\n",
        "result1 = A @ B\n",
        "print(\"Matrix Multiplication:\\n\", result1)\n",
        "\n"
      ],
      "metadata": {
        "colab": {
          "base_uri": "https://localhost:8080/"
        },
        "id": "8y7gNTD7Ffzi",
        "outputId": "a11a040d-19f8-4024-96a0-22d9d56e1975"
      },
      "execution_count": 17,
      "outputs": [
        {
          "output_type": "stream",
          "name": "stdout",
          "text": [
            "Matrix Multiplication:\n",
            " [[19 22]\n",
            " [43 50]]\n"
          ]
        }
      ]
    },
    {
      "cell_type": "code",
      "source": [
        "#  Use Pandas to load a CSV file and display its first 5 rows\n",
        "\n",
        "import pandas as pd\n",
        "\n",
        "# Creating a sample dataset\n",
        "data = {\n",
        "    'Name': ['Alice', 'Bob', 'Charlie', 'David', 'Eve'],\n",
        "    'Age': [25, 30, 35, 40, 28],\n",
        "    'Salary': [50000, 60000, 70000, 80000, 55000]\n",
        "}\n",
        "\n",
        "df = pd.DataFrame(data)\n",
        "print(\"DataFrame Created:\\n\", df)\n",
        "\n",
        "df.to_csv(\"sample_data.csv\", index=False)  # Save without the index column\n",
        "print(\"CSV file saved successfully!\")\n",
        "\n",
        "df_loaded = pd.read_csv(\"sample_data.csv\")\n",
        "print(\"CSV File Loaded Successfully!\\n\")\n",
        "print(df_loaded.head())\n"
      ],
      "metadata": {
        "colab": {
          "base_uri": "https://localhost:8080/"
        },
        "id": "5s1KVqUQFz58",
        "outputId": "5d6e08a7-376e-4133-d38d-6fe56a47c7ec"
      },
      "execution_count": 19,
      "outputs": [
        {
          "output_type": "stream",
          "name": "stdout",
          "text": [
            "DataFrame Created:\n",
            "       Name  Age  Salary\n",
            "0    Alice   25   50000\n",
            "1      Bob   30   60000\n",
            "2  Charlie   35   70000\n",
            "3    David   40   80000\n",
            "4      Eve   28   55000\n",
            "CSV file saved successfully!\n",
            "CSV File Loaded Successfully!\n",
            "\n",
            "      Name  Age  Salary\n",
            "0    Alice   25   50000\n",
            "1      Bob   30   60000\n",
            "2  Charlie   35   70000\n",
            "3    David   40   80000\n",
            "4      Eve   28   55000\n"
          ]
        }
      ]
    },
    {
      "cell_type": "code",
      "source": [
        "# Create a 3D scatter plot using Plotly.\n",
        "import plotly.express as px\n",
        "import numpy as np\n",
        "import pandas as pd\n",
        "\n",
        "np.random.seed(42)  # For reproducibility\n",
        "data = {\n",
        "    \"X\": np.random.randint(1, 100, 50),  # Random values for X-axis\n",
        "    \"Y\": np.random.randint(1, 100, 50),  # Random values for Y-axis\n",
        "    \"Z\": np.random.randint(1, 100, 50),  # Random values for Z-axis\n",
        "    \"Category\": np.random.choice([\"A\", \"B\", \"C\"], 50)  # Random categories\n",
        "}\n",
        "\n",
        "df = pd.DataFrame(data)\n",
        "\n",
        "fig = px.scatter_3d(\n",
        "    df, x=\"X\", y=\"Y\", z=\"Z\", color=\"Category\",  # Color by category\n",
        "    title=\"3D Scatter Plot using Plotly\",\n",
        "    opacity=0.8,  # Set transparency\n",
        "    size_max=10\n",
        ")\n",
        "\n",
        "fig.show()\n"
      ],
      "metadata": {
        "colab": {
          "base_uri": "https://localhost:8080/",
          "height": 542
        },
        "id": "sc5qHMDyHCvI",
        "outputId": "6c2643b5-a4a4-4434-ea25-a387a8eb33ea"
      },
      "execution_count": 20,
      "outputs": [
        {
          "output_type": "display_data",
          "data": {
            "text/html": [
              "<html>\n",
              "<head><meta charset=\"utf-8\" /></head>\n",
              "<body>\n",
              "    <div>            <script src=\"https://cdnjs.cloudflare.com/ajax/libs/mathjax/2.7.5/MathJax.js?config=TeX-AMS-MML_SVG\"></script><script type=\"text/javascript\">if (window.MathJax && window.MathJax.Hub && window.MathJax.Hub.Config) {window.MathJax.Hub.Config({SVG: {font: \"STIX-Web\"}});}</script>                <script type=\"text/javascript\">window.PlotlyConfig = {MathJaxConfig: 'local'};</script>\n",
              "        <script charset=\"utf-8\" src=\"https://cdn.plot.ly/plotly-2.35.2.min.js\"></script>                <div id=\"bef0a82c-d0ca-4e25-a473-f56118a17024\" class=\"plotly-graph-div\" style=\"height:525px; width:100%;\"></div>            <script type=\"text/javascript\">                                    window.PLOTLYENV=window.PLOTLYENV || {};                                    if (document.getElementById(\"bef0a82c-d0ca-4e25-a473-f56118a17024\")) {                    Plotly.newPlot(                        \"bef0a82c-d0ca-4e25-a473-f56118a17024\",                        [{\"hovertemplate\":\"Category=C\\u003cbr\\u003eX=%{x}\\u003cbr\\u003eY=%{y}\\u003cbr\\u003eZ=%{z}\\u003cextra\\u003e\\u003c\\u002fextra\\u003e\",\"legendgroup\":\"C\",\"marker\":{\"color\":\"#636efa\",\"opacity\":0.8,\"symbol\":\"circle\"},\"mode\":\"markers\",\"name\":\"C\",\"scene\":\"scene\",\"showlegend\":true,\"x\":[52,93,21,83,87,3,22,2,88,2,64,60,92,80,62,55,21,73,18],\"y\":[4,89,90,53,2,44,8,35,78,50,4,2,74,14,48,62,53,24,89],\"z\":[60,41,65,89,71,88,63,81,8,33,5,41,88,99,86,47,90,14,9],\"type\":\"scatter3d\"},{\"hovertemplate\":\"Category=B\\u003cbr\\u003eX=%{x}\\u003cbr\\u003eY=%{y}\\u003cbr\\u003eZ=%{z}\\u003cextra\\u003e\\u003c\\u002fextra\\u003e\",\"legendgroup\":\"B\",\"marker\":{\"color\":\"#EF553B\",\"opacity\":0.8,\"symbol\":\"circle\"},\"mode\":\"markers\",\"name\":\"B\",\"scene\":\"scene\",\"showlegend\":true,\"x\":[15,72,88,21,33,76,22,91,59,42,60,62,64,39],\"y\":[60,14,60,6,54,4,93,90,44,34,62,15,40,26],\"z\":[29,15,1,28,7,73,12,48,23,62,37,91,78,27],\"type\":\"scatter3d\"},{\"hovertemplate\":\"Category=A\\u003cbr\\u003eX=%{x}\\u003cbr\\u003eY=%{y}\\u003cbr\\u003eZ=%{z}\\u003cextra\\u003e\\u003c\\u002fextra\\u003e\",\"legendgroup\":\"A\",\"marker\":{\"color\":\"#00cc96\",\"opacity\":0.8,\"symbol\":\"circle\"},\"mode\":\"markers\",\"name\":\"A\",\"scene\":\"scene\",\"showlegend\":true,\"x\":[61,75,75,24,53,30,38,58,89,49,15,47,62,51,3,51,7],\"y\":[9,84,92,71,47,81,36,54,63,18,95,72,78,87,85,80,82],\"z\":[45,9,88,8,11,35,35,72,34,33,44,35,65,99,3,1,5],\"type\":\"scatter3d\"}],                        {\"template\":{\"data\":{\"histogram2dcontour\":[{\"type\":\"histogram2dcontour\",\"colorbar\":{\"outlinewidth\":0,\"ticks\":\"\"},\"colorscale\":[[0.0,\"#0d0887\"],[0.1111111111111111,\"#46039f\"],[0.2222222222222222,\"#7201a8\"],[0.3333333333333333,\"#9c179e\"],[0.4444444444444444,\"#bd3786\"],[0.5555555555555556,\"#d8576b\"],[0.6666666666666666,\"#ed7953\"],[0.7777777777777778,\"#fb9f3a\"],[0.8888888888888888,\"#fdca26\"],[1.0,\"#f0f921\"]]}],\"choropleth\":[{\"type\":\"choropleth\",\"colorbar\":{\"outlinewidth\":0,\"ticks\":\"\"}}],\"histogram2d\":[{\"type\":\"histogram2d\",\"colorbar\":{\"outlinewidth\":0,\"ticks\":\"\"},\"colorscale\":[[0.0,\"#0d0887\"],[0.1111111111111111,\"#46039f\"],[0.2222222222222222,\"#7201a8\"],[0.3333333333333333,\"#9c179e\"],[0.4444444444444444,\"#bd3786\"],[0.5555555555555556,\"#d8576b\"],[0.6666666666666666,\"#ed7953\"],[0.7777777777777778,\"#fb9f3a\"],[0.8888888888888888,\"#fdca26\"],[1.0,\"#f0f921\"]]}],\"heatmap\":[{\"type\":\"heatmap\",\"colorbar\":{\"outlinewidth\":0,\"ticks\":\"\"},\"colorscale\":[[0.0,\"#0d0887\"],[0.1111111111111111,\"#46039f\"],[0.2222222222222222,\"#7201a8\"],[0.3333333333333333,\"#9c179e\"],[0.4444444444444444,\"#bd3786\"],[0.5555555555555556,\"#d8576b\"],[0.6666666666666666,\"#ed7953\"],[0.7777777777777778,\"#fb9f3a\"],[0.8888888888888888,\"#fdca26\"],[1.0,\"#f0f921\"]]}],\"heatmapgl\":[{\"type\":\"heatmapgl\",\"colorbar\":{\"outlinewidth\":0,\"ticks\":\"\"},\"colorscale\":[[0.0,\"#0d0887\"],[0.1111111111111111,\"#46039f\"],[0.2222222222222222,\"#7201a8\"],[0.3333333333333333,\"#9c179e\"],[0.4444444444444444,\"#bd3786\"],[0.5555555555555556,\"#d8576b\"],[0.6666666666666666,\"#ed7953\"],[0.7777777777777778,\"#fb9f3a\"],[0.8888888888888888,\"#fdca26\"],[1.0,\"#f0f921\"]]}],\"contourcarpet\":[{\"type\":\"contourcarpet\",\"colorbar\":{\"outlinewidth\":0,\"ticks\":\"\"}}],\"contour\":[{\"type\":\"contour\",\"colorbar\":{\"outlinewidth\":0,\"ticks\":\"\"},\"colorscale\":[[0.0,\"#0d0887\"],[0.1111111111111111,\"#46039f\"],[0.2222222222222222,\"#7201a8\"],[0.3333333333333333,\"#9c179e\"],[0.4444444444444444,\"#bd3786\"],[0.5555555555555556,\"#d8576b\"],[0.6666666666666666,\"#ed7953\"],[0.7777777777777778,\"#fb9f3a\"],[0.8888888888888888,\"#fdca26\"],[1.0,\"#f0f921\"]]}],\"surface\":[{\"type\":\"surface\",\"colorbar\":{\"outlinewidth\":0,\"ticks\":\"\"},\"colorscale\":[[0.0,\"#0d0887\"],[0.1111111111111111,\"#46039f\"],[0.2222222222222222,\"#7201a8\"],[0.3333333333333333,\"#9c179e\"],[0.4444444444444444,\"#bd3786\"],[0.5555555555555556,\"#d8576b\"],[0.6666666666666666,\"#ed7953\"],[0.7777777777777778,\"#fb9f3a\"],[0.8888888888888888,\"#fdca26\"],[1.0,\"#f0f921\"]]}],\"mesh3d\":[{\"type\":\"mesh3d\",\"colorbar\":{\"outlinewidth\":0,\"ticks\":\"\"}}],\"scatter\":[{\"fillpattern\":{\"fillmode\":\"overlay\",\"size\":10,\"solidity\":0.2},\"type\":\"scatter\"}],\"parcoords\":[{\"type\":\"parcoords\",\"line\":{\"colorbar\":{\"outlinewidth\":0,\"ticks\":\"\"}}}],\"scatterpolargl\":[{\"type\":\"scatterpolargl\",\"marker\":{\"colorbar\":{\"outlinewidth\":0,\"ticks\":\"\"}}}],\"bar\":[{\"error_x\":{\"color\":\"#2a3f5f\"},\"error_y\":{\"color\":\"#2a3f5f\"},\"marker\":{\"line\":{\"color\":\"#E5ECF6\",\"width\":0.5},\"pattern\":{\"fillmode\":\"overlay\",\"size\":10,\"solidity\":0.2}},\"type\":\"bar\"}],\"scattergeo\":[{\"type\":\"scattergeo\",\"marker\":{\"colorbar\":{\"outlinewidth\":0,\"ticks\":\"\"}}}],\"scatterpolar\":[{\"type\":\"scatterpolar\",\"marker\":{\"colorbar\":{\"outlinewidth\":0,\"ticks\":\"\"}}}],\"histogram\":[{\"marker\":{\"pattern\":{\"fillmode\":\"overlay\",\"size\":10,\"solidity\":0.2}},\"type\":\"histogram\"}],\"scattergl\":[{\"type\":\"scattergl\",\"marker\":{\"colorbar\":{\"outlinewidth\":0,\"ticks\":\"\"}}}],\"scatter3d\":[{\"type\":\"scatter3d\",\"line\":{\"colorbar\":{\"outlinewidth\":0,\"ticks\":\"\"}},\"marker\":{\"colorbar\":{\"outlinewidth\":0,\"ticks\":\"\"}}}],\"scattermapbox\":[{\"type\":\"scattermapbox\",\"marker\":{\"colorbar\":{\"outlinewidth\":0,\"ticks\":\"\"}}}],\"scatterternary\":[{\"type\":\"scatterternary\",\"marker\":{\"colorbar\":{\"outlinewidth\":0,\"ticks\":\"\"}}}],\"scattercarpet\":[{\"type\":\"scattercarpet\",\"marker\":{\"colorbar\":{\"outlinewidth\":0,\"ticks\":\"\"}}}],\"carpet\":[{\"aaxis\":{\"endlinecolor\":\"#2a3f5f\",\"gridcolor\":\"white\",\"linecolor\":\"white\",\"minorgridcolor\":\"white\",\"startlinecolor\":\"#2a3f5f\"},\"baxis\":{\"endlinecolor\":\"#2a3f5f\",\"gridcolor\":\"white\",\"linecolor\":\"white\",\"minorgridcolor\":\"white\",\"startlinecolor\":\"#2a3f5f\"},\"type\":\"carpet\"}],\"table\":[{\"cells\":{\"fill\":{\"color\":\"#EBF0F8\"},\"line\":{\"color\":\"white\"}},\"header\":{\"fill\":{\"color\":\"#C8D4E3\"},\"line\":{\"color\":\"white\"}},\"type\":\"table\"}],\"barpolar\":[{\"marker\":{\"line\":{\"color\":\"#E5ECF6\",\"width\":0.5},\"pattern\":{\"fillmode\":\"overlay\",\"size\":10,\"solidity\":0.2}},\"type\":\"barpolar\"}],\"pie\":[{\"automargin\":true,\"type\":\"pie\"}]},\"layout\":{\"autotypenumbers\":\"strict\",\"colorway\":[\"#636efa\",\"#EF553B\",\"#00cc96\",\"#ab63fa\",\"#FFA15A\",\"#19d3f3\",\"#FF6692\",\"#B6E880\",\"#FF97FF\",\"#FECB52\"],\"font\":{\"color\":\"#2a3f5f\"},\"hovermode\":\"closest\",\"hoverlabel\":{\"align\":\"left\"},\"paper_bgcolor\":\"white\",\"plot_bgcolor\":\"#E5ECF6\",\"polar\":{\"bgcolor\":\"#E5ECF6\",\"angularaxis\":{\"gridcolor\":\"white\",\"linecolor\":\"white\",\"ticks\":\"\"},\"radialaxis\":{\"gridcolor\":\"white\",\"linecolor\":\"white\",\"ticks\":\"\"}},\"ternary\":{\"bgcolor\":\"#E5ECF6\",\"aaxis\":{\"gridcolor\":\"white\",\"linecolor\":\"white\",\"ticks\":\"\"},\"baxis\":{\"gridcolor\":\"white\",\"linecolor\":\"white\",\"ticks\":\"\"},\"caxis\":{\"gridcolor\":\"white\",\"linecolor\":\"white\",\"ticks\":\"\"}},\"coloraxis\":{\"colorbar\":{\"outlinewidth\":0,\"ticks\":\"\"}},\"colorscale\":{\"sequential\":[[0.0,\"#0d0887\"],[0.1111111111111111,\"#46039f\"],[0.2222222222222222,\"#7201a8\"],[0.3333333333333333,\"#9c179e\"],[0.4444444444444444,\"#bd3786\"],[0.5555555555555556,\"#d8576b\"],[0.6666666666666666,\"#ed7953\"],[0.7777777777777778,\"#fb9f3a\"],[0.8888888888888888,\"#fdca26\"],[1.0,\"#f0f921\"]],\"sequentialminus\":[[0.0,\"#0d0887\"],[0.1111111111111111,\"#46039f\"],[0.2222222222222222,\"#7201a8\"],[0.3333333333333333,\"#9c179e\"],[0.4444444444444444,\"#bd3786\"],[0.5555555555555556,\"#d8576b\"],[0.6666666666666666,\"#ed7953\"],[0.7777777777777778,\"#fb9f3a\"],[0.8888888888888888,\"#fdca26\"],[1.0,\"#f0f921\"]],\"diverging\":[[0,\"#8e0152\"],[0.1,\"#c51b7d\"],[0.2,\"#de77ae\"],[0.3,\"#f1b6da\"],[0.4,\"#fde0ef\"],[0.5,\"#f7f7f7\"],[0.6,\"#e6f5d0\"],[0.7,\"#b8e186\"],[0.8,\"#7fbc41\"],[0.9,\"#4d9221\"],[1,\"#276419\"]]},\"xaxis\":{\"gridcolor\":\"white\",\"linecolor\":\"white\",\"ticks\":\"\",\"title\":{\"standoff\":15},\"zerolinecolor\":\"white\",\"automargin\":true,\"zerolinewidth\":2},\"yaxis\":{\"gridcolor\":\"white\",\"linecolor\":\"white\",\"ticks\":\"\",\"title\":{\"standoff\":15},\"zerolinecolor\":\"white\",\"automargin\":true,\"zerolinewidth\":2},\"scene\":{\"xaxis\":{\"backgroundcolor\":\"#E5ECF6\",\"gridcolor\":\"white\",\"linecolor\":\"white\",\"showbackground\":true,\"ticks\":\"\",\"zerolinecolor\":\"white\",\"gridwidth\":2},\"yaxis\":{\"backgroundcolor\":\"#E5ECF6\",\"gridcolor\":\"white\",\"linecolor\":\"white\",\"showbackground\":true,\"ticks\":\"\",\"zerolinecolor\":\"white\",\"gridwidth\":2},\"zaxis\":{\"backgroundcolor\":\"#E5ECF6\",\"gridcolor\":\"white\",\"linecolor\":\"white\",\"showbackground\":true,\"ticks\":\"\",\"zerolinecolor\":\"white\",\"gridwidth\":2}},\"shapedefaults\":{\"line\":{\"color\":\"#2a3f5f\"}},\"annotationdefaults\":{\"arrowcolor\":\"#2a3f5f\",\"arrowhead\":0,\"arrowwidth\":1},\"geo\":{\"bgcolor\":\"white\",\"landcolor\":\"#E5ECF6\",\"subunitcolor\":\"white\",\"showland\":true,\"showlakes\":true,\"lakecolor\":\"white\"},\"title\":{\"x\":0.05},\"mapbox\":{\"style\":\"light\"}}},\"scene\":{\"domain\":{\"x\":[0.0,1.0],\"y\":[0.0,1.0]},\"xaxis\":{\"title\":{\"text\":\"X\"}},\"yaxis\":{\"title\":{\"text\":\"Y\"}},\"zaxis\":{\"title\":{\"text\":\"Z\"}}},\"legend\":{\"title\":{\"text\":\"Category\"},\"tracegroupgap\":0},\"title\":{\"text\":\"3D Scatter Plot using Plotly\"}},                        {\"responsive\": true}                    ).then(function(){\n",
              "                            \n",
              "var gd = document.getElementById('bef0a82c-d0ca-4e25-a473-f56118a17024');\n",
              "var x = new MutationObserver(function (mutations, observer) {{\n",
              "        var display = window.getComputedStyle(gd).display;\n",
              "        if (!display || display === 'none') {{\n",
              "            console.log([gd, 'removed!']);\n",
              "            Plotly.purge(gd);\n",
              "            observer.disconnect();\n",
              "        }}\n",
              "}});\n",
              "\n",
              "// Listen for the removal of the full notebook cells\n",
              "var notebookContainer = gd.closest('#notebook-container');\n",
              "if (notebookContainer) {{\n",
              "    x.observe(notebookContainer, {childList: true});\n",
              "}}\n",
              "\n",
              "// Listen for the clearing of the current output cell\n",
              "var outputEl = gd.closest('.output');\n",
              "if (outputEl) {{\n",
              "    x.observe(outputEl, {childList: true});\n",
              "}}\n",
              "\n",
              "                        })                };                            </script>        </div>\n",
              "</body>\n",
              "</html>"
            ]
          },
          "metadata": {}
        }
      ]
    }
  ]
}